{
 "cells": [
  {
   "cell_type": "markdown",
   "metadata": {},
   "source": [
    "# Test Takuan api"
   ]
  },
  {
   "cell_type": "code",
   "execution_count": 38,
   "metadata": {},
   "outputs": [
    {
     "name": "stdout",
     "output_type": "stream",
     "text": [
      "\u001b[33mWARNING: The directory '/home/jovyan/.cache/pip' or its parent directory is not owned or is not writable by the current user. The cache has been disabled. Check the permissions and owner of that directory. If executing pip with sudo, you should use sudo's -H flag.\u001b[0m\u001b[33m\n",
      "\u001b[0mRequirement already satisfied: requests in /opt/conda/lib/python3.11/site-packages (2.31.0)\n",
      "Requirement already satisfied: charset-normalizer<4,>=2 in /opt/conda/lib/python3.11/site-packages (from requests) (3.3.0)\n",
      "Requirement already satisfied: idna<4,>=2.5 in /opt/conda/lib/python3.11/site-packages (from requests) (3.4)\n",
      "Requirement already satisfied: urllib3<3,>=1.21.1 in /opt/conda/lib/python3.11/site-packages (from requests) (2.0.7)\n",
      "Requirement already satisfied: certifi>=2017.4.17 in /opt/conda/lib/python3.11/site-packages (from requests) (2023.7.22)\n",
      "\u001b[33mWARNING: Running pip as the 'root' user can result in broken permissions and conflicting behaviour with the system package manager. It is recommended to use a virtual environment instead: https://pip.pypa.io/warnings/venv\u001b[0m\u001b[33m\n",
      "\u001b[0m"
     ]
    }
   ],
   "source": [
    "!pip install requests"
   ]
  },
  {
   "cell_type": "code",
   "execution_count": 39,
   "metadata": {},
   "outputs": [
    {
     "name": "stdout",
     "output_type": "stream",
     "text": [
      "Simulated raw count matrix saved to 'simulated_raw_counts.csv'.\n",
      "Differential expression report saved to 'differential_expression_report.csv'.\n"
     ]
    }
   ],
   "source": [
    "import sys\n",
    "import os\n",
    "\n",
    "# Add the project directory to sys.path\n",
    "sys.path.append(os.path.abspath('.'))\n",
    "\n",
    "\n",
    "# Generate small test dataset (RCM)\n",
    "from utils.generate_dataset import main\n",
    "main()"
   ]
  },
  {
   "cell_type": "code",
   "execution_count": 40,
   "metadata": {},
   "outputs": [],
   "source": [
    "import requests\n",
    "\n",
    "BASE_URL = \"http://tds:5000\"\n",
    "\n",
    "def send_get_request(endpoint, headers):\n",
    "    \"\"\"\n",
    "    Sends a GET request to a Takuan endpoint with the provided headers.\n",
    "    \"\"\"\n",
    "    url = f\"{BASE_URL}{endpoint}\"\n",
    "    try:\n",
    "        response = requests.get(url, headers=headers)\n",
    "        print(f\"GET {endpoint} - Status Code: {response.status_code}\")\n",
    "        if response.status_code == 200:\n",
    "            print(\"Response JSON:\")\n",
    "            print(response.json())\n",
    "        else:\n",
    "            print(\"Error: Unable to fetch data from the endpoint.\")\n",
    "            print(f\"Response Content: {response.text}\")\n",
    "    except requests.exceptions.RequestException as e:\n",
    "        print(f\"An error occurred while making the GET request to {endpoint}: {e}\")\n",
    "\n",
    "def send_post_request(endpoint, headers, payload):\n",
    "    \"\"\"\n",
    "    Sends a POST request to a Takuan endpoint with the provided headers and payload.\n",
    "    \"\"\"\n",
    "    url = f\"{BASE_URL}{endpoint}\"\n",
    "    try:\n",
    "        response = requests.post(url, headers=headers, json=payload)\n",
    "        print(f\"POST {endpoint} - Status Code: {response.status_code}\")\n",
    "        if response.status_code in [200, 201]:\n",
    "            print(\"Response JSON:\")\n",
    "            print(response.json())\n",
    "        else:\n",
    "            print(\"Error: Unable to post data to the endpoint.\")\n",
    "            print(f\"Response Content: {response.text}\")\n",
    "    except requests.exceptions.RequestException as e:\n",
    "        print(f\"An error occurred while making the POST request to {endpoint}: {e}\")\n",
    "\n",
    "def send_post_request_with_file(endpoint, headers, files):\n",
    "    \"\"\"\n",
    "    Sends a POST request with files (multipart/form-data).\n",
    "    \"\"\"\n",
    "    url = f\"{BASE_URL}{endpoint}\"\n",
    "    try:\n",
    "        response = requests.post(url, headers=headers, files=files)\n",
    "        print(f\"POST {endpoint} - Status Code: {response.status_code}\")\n",
    "        if response.status_code in [200, 201]:\n",
    "            print(\"Response JSON:\")\n",
    "            print(response.json())\n",
    "        else:\n",
    "            print(\"Error: Unable to post file to the endpoint.\")\n",
    "            print(f\"Response Content: {response.text}\")\n",
    "    except requests.exceptions.RequestException as e:\n",
    "        print(f\"An error occurred while making the POST request to {endpoint}: {e}\")\n"
   ]
  },
  {
   "cell_type": "code",
   "execution_count": 41,
   "metadata": {},
   "outputs": [
    {
     "name": "stdout",
     "output_type": "stream",
     "text": [
      "POST /experiment - Status Code: 500\n",
      "Error: Unable to post data to the endpoint.\n",
      "Response Content: Internal Server Error\n"
     ]
    }
   ],
   "source": [
    "# POST to /experiment\n",
    "# Create an experiment\n",
    "headers_post = {\n",
    "    \"accept\": \"application/json\",\n",
    "    \"Content-Type\": \"application/json\"\n",
    "}\n",
    "payload_experiment = {\n",
    "    \"experiment_result_id\": \"try1\",\n",
    "    \"assembly_id\": \"ai1\",\n",
    "    \"assembly_name\": \"an1\",\n",
    "    \"extra_properties\": {}\n",
    "}\n",
    "send_post_request(\"/experiment\", headers_post, payload_experiment)"
   ]
  },
  {
   "cell_type": "code",
   "execution_count": 42,
   "metadata": {},
   "outputs": [
    {
     "name": "stdout",
     "output_type": "stream",
     "text": [
      "POST /experiment/try1/ingest - Status Code: 500\n",
      "Error: Unable to post file to the endpoint.\n",
      "Response Content: Internal Server Error\n"
     ]
    }
   ],
   "source": [
    "# POST to \n",
    "# Ingest an experiment\n",
    "\n",
    "headers_ingest = {\n",
    "    \"accept\": \"application/json\"\n",
    "}\n",
    "\n",
    "# Open the file using a context manager.\n",
    "file_path = \"simulated_raw_counts.csv\" ## previously generated\n",
    "with open(file_path, \"rb\") as file_obj:\n",
    "    files = {\n",
    "        \"rcm_file\": (file_path, file_obj, \"text/tab-separated-values\")\n",
    "    }\n",
    "    send_post_request_with_file(\"/experiment/try1/ingest\", headers_ingest, files)\n",
    "\n"
   ]
  },
  {
   "cell_type": "code",
   "execution_count": 43,
   "metadata": {},
   "outputs": [
    {
     "name": "stdout",
     "output_type": "stream",
     "text": [
      "GET /experiment - Status Code: 200\n",
      "Response JSON:\n",
      "[{'experiment_result_id': 'try1', 'assembly_id': 'ai1', 'assembly_name': 'an1', 'extra_properties': {}}, {'experiment_result_id': 'try3', 'assembly_id': 'ai1', 'assembly_name': 'an1', 'extra_properties': {}}]\n"
     ]
    }
   ],
   "source": [
    "# GET from /experiment\n",
    "headers_get = {\n",
    "    \"accept\": \"application/json\"\n",
    "}\n",
    "send_get_request(\"/experiment\", headers_get)\n"
   ]
  },
  {
   "cell_type": "code",
   "execution_count": 44,
   "metadata": {},
   "outputs": [
    {
     "name": "stdout",
     "output_type": "stream",
     "text": [
      "POST /experiment/try1/features - Status Code: 200\n",
      "Response JSON:\n",
      "{'page': 1, 'page_size': 100, 'total_records': 100, 'total_pages': 1, 'features': ['A1BG', 'A1BG-AS1', 'A1CF', 'A2M', 'A2M-AS1', 'A2ML1', 'A2MP1', 'A3GALT2', 'A4GALT', 'A4GNT', 'AA06', 'AAAS', 'AACS', 'AACSP1', 'AADAC', 'AADACL2', 'AADACL2-AS1', 'AADACL3', 'AADACL4', 'AADACP1', 'AADAT', 'AAGAB', 'AAK1', 'AAMDC', 'AAMP', 'AANAT', 'AAR2', 'AARD', 'AARS1', 'AARS2', 'AARSD1', 'AASDH', 'AASDHPPT', 'AASS', 'AATBC', 'AATF', 'AATK', 'ABALON', 'ABAT', 'ABCA1', 'ABCA10', 'ABCA11P', 'ABCA12', 'ABCA13', 'ABCA17P', 'ABCA2', 'ABCA3', 'ABCA4', 'ABCA5', 'ABCA6', 'ABCA7', 'ABCA8', 'ABCA9', 'ABCA9-AS1', 'ABCB1', 'ABCB10', 'ABCB11', 'ABCB4', 'ABCB5', 'ABCB6', 'ABCB7', 'ABCB8', 'ABCB9', 'ABCC1', 'ABCC10', 'ABCC11', 'ABCC12', 'ABCC13', 'ABCC2', 'ABCC3', 'ABCC4', 'ABCC5', 'ABCC5-AS1', 'ABCC6', 'ABCC6P1', 'ABCC6P2', 'ABCC8', 'ABCC9', 'ABCD1', 'ABCD2', 'ABCD3', 'ABCD4', 'ABCE1', 'ABCF1', 'ABCF1-DT', 'ABCF2', 'ABCF2-H2BK1', 'ABCF3', 'ABCG1', 'ABCG2', 'ABCG4', 'ABCG5', 'ABCG8', 'ABHD1', 'ABHD10', 'ABHD11', 'ABHD11-AS1', 'ABHD12', 'ABHD12B', 'ABHD13']}\n"
     ]
    }
   ],
   "source": [
    "# POST to /experiment/try1/features\n",
    "payload_features = {\n",
    "    \"page\": 1,\n",
    "    \"page_size\": 100\n",
    "}\n",
    "send_post_request(\"/experiment/try1/features\", headers_post, payload_features)\n"
   ]
  },
  {
   "cell_type": "code",
   "execution_count": 48,
   "metadata": {},
   "outputs": [
    {
     "name": "stdout",
     "output_type": "stream",
     "text": [
      "POST /normalize/try1/tmm - Status Code: 200\n",
      "Response JSON:\n",
      "{'message': 'TMM normalization completed successfully'}\n"
     ]
    }
   ],
   "source": [
    "# POST to normalization tmm\n",
    "headers_normalization = {\n",
    "    \"accept\": \"application/json\"\n",
    "}\n",
    "\n",
    "payload = {}\n",
    "\n",
    "send_post_request(\"/normalize/try1/tmm\", headers_normalization, payload)"
   ]
  },
  {
   "cell_type": "code",
   "execution_count": 49,
   "metadata": {},
   "outputs": [
    {
     "name": "stdout",
     "output_type": "stream",
     "text": [
      "POST /expressions - Status Code: 200\n",
      "Response JSON:\n",
      "{'page': 1, 'page_size': 100, 'total_records': 40, 'total_pages': 1, 'query': {'page': 1, 'page_size': 100, 'genes': ['ABCC5-AS1', 'ABCB4', 'AASDH', 'ABCB6'], 'experiments': None, 'sample_ids': None, 'method': 'tmm'}, 'expressions': [{'gene_code': 'AASDH', 'sample_id': 'Control_1', 'experiment_result_id': 'try1', 'count': 131.79944855970106}, {'gene_code': 'AASDH', 'sample_id': 'Control_2', 'experiment_result_id': 'try1', 'count': 143.33068333579925}, {'gene_code': 'AASDH', 'sample_id': 'Control_3', 'experiment_result_id': 'try1', 'count': 0.0}, {'gene_code': 'AASDH', 'sample_id': 'Control_4', 'experiment_result_id': 'try1', 'count': 143.81299046800876}, {'gene_code': 'AASDH', 'sample_id': 'Control_5', 'experiment_result_id': 'try1', 'count': 144.49782309053063}, {'gene_code': 'AASDH', 'sample_id': 'Treatment_1', 'experiment_result_id': 'try1', 'count': 140.33409139029362}, {'gene_code': 'AASDH', 'sample_id': 'Treatment_2', 'experiment_result_id': 'try1', 'count': 156.15541137207995}, {'gene_code': 'AASDH', 'sample_id': 'Treatment_3', 'experiment_result_id': 'try1', 'count': 1771.6171385215084}, {'gene_code': 'AASDH', 'sample_id': 'Treatment_4', 'experiment_result_id': 'try1', 'count': 143.88920353584615}, {'gene_code': 'AASDH', 'sample_id': 'Treatment_5', 'experiment_result_id': 'try1', 'count': 128.745353972336}, {'gene_code': 'ABCB4', 'sample_id': 'Control_1', 'experiment_result_id': 'try1', 'count': 142.30520170576418}, {'gene_code': 'ABCB4', 'sample_id': 'Control_2', 'experiment_result_id': 'try1', 'count': 171.9968200029591}, {'gene_code': 'ABCB4', 'sample_id': 'Control_3', 'experiment_result_id': 'try1', 'count': 192.65946962403612}, {'gene_code': 'ABCB4', 'sample_id': 'Control_4', 'experiment_result_id': 'try1', 'count': 131.99274467611764}, {'gene_code': 'ABCB4', 'sample_id': 'Control_5', 'experiment_result_id': 'try1', 'count': 712.9826797230129}, {'gene_code': 'ABCB4', 'sample_id': 'Treatment_1', 'experiment_result_id': 'try1', 'count': 178.03578758470087}, {'gene_code': 'ABCB4', 'sample_id': 'Treatment_2', 'experiment_result_id': 'try1', 'count': 0.0}, {'gene_code': 'ABCB4', 'sample_id': 'Treatment_3', 'experiment_result_id': 'try1', 'count': 0.0}, {'gene_code': 'ABCB4', 'sample_id': 'Treatment_4', 'experiment_result_id': 'try1', 'count': 0.0}, {'gene_code': 'ABCB4', 'sample_id': 'Treatment_5', 'experiment_result_id': 'try1', 'count': 141.90181350235576}, {'gene_code': 'ABCB6', 'sample_id': 'Control_1', 'experiment_result_id': 'try1', 'count': 1728.6739267612966}, {'gene_code': 'ABCB6', 'sample_id': 'Control_2', 'experiment_result_id': 'try1', 'count': 199.6012479046686}, {'gene_code': 'ABCB6', 'sample_id': 'Control_3', 'experiment_result_id': 'try1', 'count': 201.12801773937838}, {'gene_code': 'ABCB6', 'sample_id': 'Control_4', 'experiment_result_id': 'try1', 'count': 189.1239326702581}, {'gene_code': 'ABCB6', 'sample_id': 'Control_5', 'experiment_result_id': 'try1', 'count': 186.32614030094737}, {'gene_code': 'ABCB6', 'sample_id': 'Treatment_1', 'experiment_result_id': 'try1', 'count': 0.0}, {'gene_code': 'ABCB6', 'sample_id': 'Treatment_2', 'experiment_result_id': 'try1', 'count': 197.72925465945187}, {'gene_code': 'ABCB6', 'sample_id': 'Treatment_3', 'experiment_result_id': 'try1', 'count': 200.12712120335559}, {'gene_code': 'ABCB6', 'sample_id': 'Treatment_4', 'experiment_result_id': 'try1', 'count': 158.18283302616197}, {'gene_code': 'ABCB6', 'sample_id': 'Treatment_5', 'experiment_result_id': 'try1', 'count': 144.72105483021716}, {'gene_code': 'ABCC5-AS1', 'sample_id': 'Control_1', 'experiment_result_id': 'try1', 'count': 234.9468430846845}, {'gene_code': 'ABCC5-AS1', 'sample_id': 'Control_2', 'experiment_result_id': 'try1', 'count': 276.0442790170948}, {'gene_code': 'ABCC5-AS1', 'sample_id': 'Control_3', 'experiment_result_id': 'try1', 'count': 228.65079911424067}, {'gene_code': 'ABCC5-AS1', 'sample_id': 'Control_4', 'experiment_result_id': 'try1', 'count': 238.37495680313785}, {'gene_code': 'ABCC5-AS1', 'sample_id': 'Control_5', 'experiment_result_id': 'try1', 'count': 220.54930892765196}, {'gene_code': 'ABCC5-AS1', 'sample_id': 'Treatment_1', 'experiment_result_id': 'try1', 'count': 2356.3560121504524}, {'gene_code': 'ABCC5-AS1', 'sample_id': 'Treatment_2', 'experiment_result_id': 'try1', 'count': 238.28910176908303}, {'gene_code': 'ABCC5-AS1', 'sample_id': 'Treatment_3', 'experiment_result_id': 'try1', 'count': 2405.8998177452586}, {'gene_code': 'ABCC5-AS1', 'sample_id': 'Treatment_4', 'experiment_result_id': 'try1', 'count': 241.08588406999385}, {'gene_code': 'ABCC5-AS1', 'sample_id': 'Treatment_5', 'experiment_result_id': 'try1', 'count': 230.23804177534544}]}\n"
     ]
    }
   ],
   "source": [
    "# POST to /expressions\n",
    "payload_expressions = {\n",
    "    \"page\": 1,\n",
    "    \"page_size\": 100,\n",
    "    \"genes\": [\"ABCC5-AS1\",\"ABCB4\",\"AASDH\",\"ABCB6\"],\n",
    "    \"method\": \"tmm\"\n",
    "}\n",
    "send_post_request(\"/expressions\", headers_post, payload_expressions)"
   ]
  },
  {
   "cell_type": "code",
   "execution_count": null,
   "metadata": {},
   "outputs": [],
   "source": []
  }
 ],
 "metadata": {
  "kernelspec": {
   "display_name": "Python 3 (ipykernel)",
   "language": "python",
   "name": "python3"
  },
  "language_info": {
   "codemirror_mode": {
    "name": "ipython",
    "version": 3
   },
   "file_extension": ".py",
   "mimetype": "text/x-python",
   "name": "python",
   "nbconvert_exporter": "python",
   "pygments_lexer": "ipython3",
   "version": "3.11.6"
  }
 },
 "nbformat": 4,
 "nbformat_minor": 4
}
